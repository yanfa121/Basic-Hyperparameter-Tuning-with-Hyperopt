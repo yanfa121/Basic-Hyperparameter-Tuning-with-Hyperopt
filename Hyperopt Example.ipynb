{
 "cells": [
  {
   "cell_type": "markdown",
   "id": "63a1c906",
   "metadata": {},
   "source": [
    "# **Hyperopt Example**"
   ]
  },
  {
   "cell_type": "code",
   "execution_count": 1,
   "id": "19ac5179",
   "metadata": {},
   "outputs": [],
   "source": [
    "from hyperopt import fmin, tpe, hp, Trials, STATUS_OK\n",
    "import xgboost as xgb\n",
    "from sklearn.datasets import load_breast_cancer\n",
    "from sklearn.model_selection import cross_val_score\n",
    "from sklearn.metrics import accuracy_score\n",
    "import numpy as np"
   ]
  },
  {
   "cell_type": "code",
   "execution_count": 2,
   "id": "f3a2f29b",
   "metadata": {},
   "outputs": [],
   "source": [
    "# Dataset\n",
    "X, y = load_breast_cancer(return_X_y=True)"
   ]
  },
  {
   "cell_type": "code",
   "execution_count": 3,
   "id": "d7905b3d",
   "metadata": {},
   "outputs": [],
   "source": [
    "# Definisikan ruang pencarian\n",
    "space = {\n",
    "    'max_depth': hp.choice('max_depth', range(3, 10)),\n",
    "    'learning_rate': hp.uniform('learning_rate', 0.01, 0.3),\n",
    "    'n_estimators': hp.quniform('n_estimators', 50, 500, 10),\n",
    "}"
   ]
  },
  {
   "cell_type": "code",
   "execution_count": 6,
   "id": "0c0c1ecf",
   "metadata": {},
   "outputs": [],
   "source": [
    "# Fungsi objektif\n",
    "def objective(params):\n",
    "    model = xgb.XGBClassifier(\n",
    "        max_depth=int(params['max_depth']),\n",
    "        learning_rate=params['learning_rate'],\n",
    "        n_estimators=int(params['n_estimators']),\n",
    "        eval_metric='logloss'\n",
    "    )\n",
    "    score = cross_val_score(model, X, y, cv=5, scoring='accuracy').mean()\n",
    "    return {'loss': -score, 'status': STATUS_OK}"
   ]
  },
  {
   "cell_type": "code",
   "execution_count": 7,
   "id": "85ce456c",
   "metadata": {},
   "outputs": [
    {
     "name": "stdout",
     "output_type": "stream",
     "text": [
      "100%|██████████| 50/50 [00:45<00:00,  1.10trial/s, best loss: -0.98067070330694]  \n"
     ]
    }
   ],
   "source": [
    "# Pencarian Parameter Optimal\n",
    "trials = Trials()\n",
    "best_params = fmin(\n",
    "    fn=objective,\n",
    "    space=space,\n",
    "    algo=tpe.suggest,\n",
    "    max_evals=50,\n",
    "    trials=trials\n",
    ")"
   ]
  },
  {
   "cell_type": "code",
   "execution_count": 9,
   "id": "6eb52820",
   "metadata": {},
   "outputs": [
    {
     "name": "stdout",
     "output_type": "stream",
     "text": [
      "Best parameters: {'learning_rate': np.float64(0.26732402664794525), 'max_depth': np.int64(3), 'n_estimators': np.float64(180.0)}\n"
     ]
    }
   ],
   "source": [
    "print(\"Best parameters:\", best_params)"
   ]
  }
 ],
 "metadata": {
  "kernelspec": {
   "display_name": "base",
   "language": "python",
   "name": "python3"
  },
  "language_info": {
   "codemirror_mode": {
    "name": "ipython",
    "version": 3
   },
   "file_extension": ".py",
   "mimetype": "text/x-python",
   "name": "python",
   "nbconvert_exporter": "python",
   "pygments_lexer": "ipython3",
   "version": "3.13.5"
  }
 },
 "nbformat": 4,
 "nbformat_minor": 5
}
